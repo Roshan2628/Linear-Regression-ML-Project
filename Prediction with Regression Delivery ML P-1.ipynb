{
 "cells": [
  {
   "cell_type": "markdown",
   "id": "21d80d8f-fd6a-44d6-85d8-2c3478247a35",
   "metadata": {},
   "source": [
    "# Prediction with Regression Delivery Data Simple Linear Regression Project"
   ]
  },
  {
   "cell_type": "markdown",
   "id": "54139d5a-5ca2-4f64-b7fb-7bc1f6316a5b",
   "metadata": {},
   "source": [
    "# Prediction with Regression Delivery Data Simple Linear Regression Project"
   ]
  },
  {
   "cell_type": "code",
   "execution_count": 1,
   "id": "c9b6b19d-17cf-4dc7-8144-df41927dd3e3",
   "metadata": {},
   "outputs": [],
   "source": [
    "## Importing the Libraries\n",
    "import pandas as pd\n",
    "import numpy as np\n",
    "import seaborn as sns\n",
    "import matplotlib.pyplot as plt\n",
    "from sklearn.linear_model import LinearRegression"
   ]
  },
  {
   "cell_type": "code",
   "execution_count": 2,
   "id": "47b6772c-eeb8-4bf7-a2f9-33c32887b76b",
   "metadata": {},
   "outputs": [
    {
     "name": "stdout",
     "output_type": "stream",
     "text": [
      "   Delivery Time  Sorting Time\n",
      "0           21.0            10\n",
      "1           13.5             4\n"
     ]
    }
   ],
   "source": [
    "# Loading the dataset from system\n",
    "data = pd.read_csv('D:/Top Mentor/Classes Details/07th April 2024/Assignment/Project - 1&2_ Simple_Reg/delivery_time.csv')\n",
    "print(data.head(2))"
   ]
  },
  {
   "cell_type": "code",
   "execution_count": 3,
   "id": "69f5bf6e-acde-4c69-8c12-ffa4f3daab37",
   "metadata": {},
   "outputs": [
    {
     "name": "stdout",
     "output_type": "stream",
     "text": [
      "   Delivery Time  Sorting Time\n",
      "0           21.0            10\n",
      "1           13.5             4\n"
     ]
    }
   ],
   "source": [
    "## Copy our data that our main data will be actual -:\n",
    "df = data.copy()\n",
    "print(df.head(2))"
   ]
  },
  {
   "cell_type": "code",
   "execution_count": 4,
   "id": "4f6c9fbb-b6ad-414c-a4a9-d11e4f7098b1",
   "metadata": {},
   "outputs": [
    {
     "name": "stdout",
     "output_type": "stream",
     "text": [
      "Min Del_time  -  8.0\n",
      "Max Del_time  -  29.0\n",
      "Min sort_time -  2\n",
      "Max sort_time -  10\n"
     ]
    }
   ],
   "source": [
    "## Data Reading Basic Steps :-\n",
    "print('Min Del_time  - ',df['Delivery Time'].min())\n",
    "print('Max Del_time  - ',df['Delivery Time'].max())\n",
    "print('Min sort_time - ',df['Sorting Time'].min())\n",
    "print('Max sort_time - ',df['Sorting Time'].max())"
   ]
  },
  {
   "cell_type": "code",
   "execution_count": 7,
   "id": "ab263fee-ae04-458c-8354-923cd7e4e454",
   "metadata": {},
   "outputs": [
    {
     "name": "stdout",
     "output_type": "stream",
     "text": [
      "no of columns -  Index(['Delivery Time', 'Sorting Time'], dtype='object')\n",
      "no of shapes -  (21, 2)\n",
      "no of lenght -  21\n",
      "no of datatype - \n",
      " Delivery Time    float64\n",
      "Sorting Time       int64\n",
      "dtype: object\n"
     ]
    }
   ],
   "source": [
    "##Checking Data Parameter :-\n",
    "print('no of columns - ' , df.columns)\n",
    "print('no of shapes - ' , df.shape)\n",
    "print('no of lenght - ' , len(df))\n",
    "print('no of datatype - \\n' , df.dtypes)"
   ]
  },
  {
   "cell_type": "code",
   "execution_count": null,
   "id": "2e3782b6-994a-4cb4-b16d-7537456ce59d",
   "metadata": {},
   "outputs": [],
   "source": [
    "## We are doing EDA on the data - "
   ]
  },
  {
   "cell_type": "code",
   "execution_count": 8,
   "id": "920578a1-92c0-4572-bcee-dbc2097acaa8",
   "metadata": {},
   "outputs": [
    {
     "name": "stdout",
     "output_type": "stream",
     "text": [
      "       Delivery Time  Sorting Time\n",
      "count      21.000000     21.000000\n",
      "mean       16.790952      6.190476\n",
      "std         5.074901      2.542028\n",
      "min         8.000000      2.000000\n",
      "25%        13.500000      4.000000\n",
      "50%        17.830000      6.000000\n",
      "75%        19.750000      8.000000\n",
      "max        29.000000     10.000000\n"
     ]
    }
   ],
   "source": [
    "print(data.describe())"
   ]
  },
  {
   "cell_type": "code",
   "execution_count": 9,
   "id": "411803cc-f69c-4555-8302-53f82ecb6122",
   "metadata": {},
   "outputs": [
    {
     "data": {
      "text/plain": [
       "Delivery Time    0\n",
       "Sorting Time     0\n",
       "dtype: int64"
      ]
     },
     "execution_count": 9,
     "metadata": {},
     "output_type": "execute_result"
    }
   ],
   "source": [
    "## Checking the null values - \n",
    "df.isnull().sum()"
   ]
  },
  {
   "cell_type": "code",
   "execution_count": 16,
   "id": "8d2a03af-9c30-427e-8d69-2229cc03580a",
   "metadata": {},
   "outputs": [
    {
     "name": "stdout",
     "output_type": "stream",
     "text": [
      "0.3523900822831107\n"
     ]
    },
    {
     "name": "stderr",
     "output_type": "stream",
     "text": [
      "C:\\Users\\DELL\\AppData\\Local\\Temp\\ipykernel_22152\\3183495057.py:2: UserWarning: \n",
      "\n",
      "`distplot` is a deprecated function and will be removed in seaborn v0.14.0.\n",
      "\n",
      "Please adapt your code to use either `displot` (a figure-level function with\n",
      "similar flexibility) or `histplot` (an axes-level function for histograms).\n",
      "\n",
      "For a guide to updating your code to use the new functions, please see\n",
      "https://gist.github.com/mwaskom/de44147ed2974457ad6372750bbe5751\n",
      "\n",
      "  sns.distplot( x = data['Delivery Time'])\n",
      "C:\\Users\\DELL\\anaconda3\\Lib\\site-packages\\seaborn\\_oldcore.py:1119: FutureWarning: use_inf_as_na option is deprecated and will be removed in a future version. Convert inf values to NaN before operating instead.\n",
      "  with pd.option_context('mode.use_inf_as_na', True):\n"
     ]
    },
    {
     "data": {
      "image/png": "[encoded data removed]",
      "text/plain": [
       "<Figure size 200x200 with 1 Axes>"
      ]
     },
     "metadata": {},
     "output_type": "display_data"
    }
   ],
   "source": [
    "plt.figure(figsize=(2,2))\n",
    "sns.distplot( x = data['Delivery Time'])\n",
    "print (data['Delivery Time'].skew())"
   ]
  },
  {
   "cell_type": "code",
   "execution_count": 17,
   "id": "dd79652a-61cf-47b2-9ba5-a3e7ccb74402",
   "metadata": {},
   "outputs": [
    {
     "name": "stdout",
     "output_type": "stream",
     "text": [
      "0.047115474210530174\n"
     ]
    },
    {
     "name": "stderr",
     "output_type": "stream",
     "text": [
      "C:\\Users\\DELL\\AppData\\Local\\Temp\\ipykernel_22152\\4068664362.py:2: UserWarning: \n",
      "\n",
      "`distplot` is a deprecated function and will be removed in seaborn v0.14.0.\n",
      "\n",
      "Please adapt your code to use either `displot` (a figure-level function with\n",
      "similar flexibility) or `histplot` (an axes-level function for histograms).\n",
      "\n",
      "For a guide to updating your code to use the new functions, please see\n",
      "https://gist.github.com/mwaskom/de44147ed2974457ad6372750bbe5751\n",
      "\n",
      "  sns.distplot( x = data['Sorting Time'])\n",
      "C:\\Users\\DELL\\anaconda3\\Lib\\site-packages\\seaborn\\_oldcore.py:1119: FutureWarning: use_inf_as_na option is deprecated and will be removed in a future version. Convert inf values to NaN before operating instead.\n",
      "  with pd.option_context('mode.use_inf_as_na', True):\n"
     ]
    },
    {
     "data": {
      "image/png": "[encoded data removed]",
      "text/plain": [
       "<Figure size 200x200 with 1 Axes>"
      ]
     },
     "metadata": {},
     "output_type": "display_data"
    }
   ],
   "source": [
    "plt.figure(figsize=(2,2))\n",
    "sns.distplot( x = data['Sorting Time'])\n",
    "print (data['Sorting Time'].skew())"
   ]
  },
  {
   "cell_type": "code",
   "execution_count": 21,
   "id": "d274acb3-2252-4584-8bb7-27cfa02c0666",
   "metadata": {},
   "outputs": [
    {
     "data": {
      "text/plain": [
       "<Axes: xlabel='Delivery Time', ylabel='Sorting Time'>"
      ]
     },
     "execution_count": 21,
     "metadata": {},
     "output_type": "execute_result"
    },
    {
     "data": {
      "image/png": "[encoded data removed]",
      "text/plain": [
       "<Figure size 200x200 with 1 Axes>"
      ]
     },
     "metadata": {},
     "output_type": "display_data"
    }
   ],
   "source": [
    "plt.figure(figsize=(2,2))\n",
    "sns.scatterplot(x = data['Delivery Time'] , y = data['Sorting Time'])"
   ]
  },
  {
   "cell_type": "code",
   "execution_count": null,
   "id": "a01ff048-1443-4095-90d5-ec9bf6fab6ab",
   "metadata": {},
   "outputs": [],
   "source": [
    "### Sampling of Data  - Splitting the data into Training & Testing "
   ]
  },
  {
   "cell_type": "code",
   "execution_count": 22,
   "id": "6d8b67f3-5a9c-4774-b0bf-d3c688ab2a18",
   "metadata": {},
   "outputs": [],
   "source": [
    "from sklearn.model_selection import train_test_split"
   ]
  },
  {
   "cell_type": "code",
   "execution_count": 24,
   "id": "46b318ff-7848-45eb-86dd-cb009d337c44",
   "metadata": {
    "scrolled": true
   },
   "outputs": [
    {
     "data": {
      "text/plain": [
       "array([[21.  ],\n",
       "       [13.5 ],\n",
       "       [19.75],\n",
       "       [24.  ],\n",
       "       [29.  ],\n",
       "       [15.35],\n",
       "       [19.  ],\n",
       "       [ 9.5 ],\n",
       "       [17.9 ],\n",
       "       [18.75],\n",
       "       [19.83],\n",
       "       [10.75],\n",
       "       [16.68],\n",
       "       [11.5 ],\n",
       "       [12.03],\n",
       "       [14.88],\n",
       "       [13.75],\n",
       "       [18.11],\n",
       "       [ 8.  ],\n",
       "       [17.83],\n",
       "       [21.5 ]])"
      ]
     },
     "execution_count": 24,
     "metadata": {},
     "output_type": "execute_result"
    }
   ],
   "source": [
    "X = data['Delivery Time'].values.reshape(-1,1)\n",
    "X"
   ]
  },
  {
   "cell_type": "code",
   "execution_count": 25,
   "id": "77bffd8e-25a0-4309-bd63-9857f1580935",
   "metadata": {},
   "outputs": [
    {
     "data": {
      "text/plain": [
       "array([[10],\n",
       "       [ 4],\n",
       "       [ 6],\n",
       "       [ 9],\n",
       "       [10],\n",
       "       [ 6],\n",
       "       [ 7],\n",
       "       [ 3],\n",
       "       [10],\n",
       "       [ 9],\n",
       "       [ 8],\n",
       "       [ 4],\n",
       "       [ 7],\n",
       "       [ 3],\n",
       "       [ 3],\n",
       "       [ 4],\n",
       "       [ 6],\n",
       "       [ 7],\n",
       "       [ 2],\n",
       "       [ 7],\n",
       "       [ 5]], dtype=int64)"
      ]
     },
     "execution_count": 25,
     "metadata": {},
     "output_type": "execute_result"
    }
   ],
   "source": [
    "y = data['Sorting Time'].values.reshape(-1,1)\n",
    "y"
   ]
  },
  {
   "cell_type": "code",
   "execution_count": 26,
   "id": "1915f55f-a96e-4893-bbe2-7c9689cce4a8",
   "metadata": {},
   "outputs": [],
   "source": [
    "X_train, X_test,y_train,y_test = train_test_split(X,y,test_size=0.2)"
   ]
  },
  {
   "cell_type": "code",
   "execution_count": 27,
   "id": "ca960862-b7f2-498c-8d04-64c244ad9709",
   "metadata": {},
   "outputs": [
    {
     "data": {
      "text/plain": [
       "((16, 1), (16, 1))"
      ]
     },
     "execution_count": 27,
     "metadata": {},
     "output_type": "execute_result"
    }
   ],
   "source": [
    "X_train.shape , y_train.shape"
   ]
  },
  {
   "cell_type": "code",
   "execution_count": 28,
   "id": "77478a22-52ff-4f83-b9e5-7b96deb16c7d",
   "metadata": {},
   "outputs": [
    {
     "data": {
      "text/plain": [
       "((5, 1), (5, 1))"
      ]
     },
     "execution_count": 28,
     "metadata": {},
     "output_type": "execute_result"
    }
   ],
   "source": [
    "X_test.shape , y_test.shape"
   ]
  },
  {
   "cell_type": "code",
   "execution_count": 29,
   "id": "854c504d-5756-4e14-9edd-6dec73041ce2",
   "metadata": {},
   "outputs": [],
   "source": [
    "### Modeling of Data"
   ]
  },
  {
   "cell_type": "code",
   "execution_count": 31,
   "id": "08b554fa-8bd4-4c30-ab2f-c4608fda9148",
   "metadata": {},
   "outputs": [
    {
     "data": {
      "text/html": [
       "<style>#sk-container-id-1 {color: black;background-color: white;}#sk-container-id-1 pre{padding: 0;}#sk-container-id-1 div.sk-toggleable {background-color: white;}#sk-container-id-1 label.sk-toggleable__label {cursor: pointer;display: block;width: 100%;margin-bottom: 0;padding: 0.3em;box-sizing: border-box;text-align: center;}#sk-container-id-1 label.sk-toggleable__label-arrow:before {content: \"▸\";float: left;margin-right: 0.25em;color: #696969;}#sk-container-id-1 label.sk-toggleable__label-arrow:hover:before {color: black;}#sk-container-id-1 div.sk-estimator:hover label.sk-toggleable__label-arrow:before {color: black;}#sk-container-id-1 div.sk-toggleable__content {max-height: 0;max-width: 0;overflow: hidden;text-align: left;background-color: #f0f8ff;}#sk-container-id-1 div.sk-toggleable__content pre {margin: 0.2em;color: black;border-radius: 0.25em;background-color: #f0f8ff;}#sk-container-id-1 input.sk-toggleable__control:checked~div.sk-toggleable__content {max-height: 200px;max-width: 100%;overflow: auto;}#sk-container-id-1 input.sk-toggleable__control:checked~label.sk-toggleable__label-arrow:before {content: \"▾\";}#sk-container-id-1 div.sk-estimator input.sk-toggleable__control:checked~label.sk-toggleable__label {background-color: #d4ebff;}#sk-container-id-1 div.sk-label input.sk-toggleable__control:checked~label.sk-toggleable__label {background-color: #d4ebff;}#sk-container-id-1 input.sk-hidden--visually {border: 0;clip: rect(1px 1px 1px 1px);clip: rect(1px, 1px, 1px, 1px);height: 1px;margin: -1px;overflow: hidden;padding: 0;position: absolute;width: 1px;}#sk-container-id-1 div.sk-estimator {font-family: monospace;background-color: #f0f8ff;border: 1px dotted black;border-radius: 0.25em;box-sizing: border-box;margin-bottom: 0.5em;}#sk-container-id-1 div.sk-estimator:hover {background-color: #d4ebff;}#sk-container-id-1 div.sk-parallel-item::after {content: \"\";width: 100%;border-bottom: 1px solid gray;flex-grow: 1;}#sk-container-id-1 div.sk-label:hover label.sk-toggleable__label {background-color: #d4ebff;}#sk-container-id-1 div.sk-serial::before {content: \"\";position: absolute;border-left: 1px solid gray;box-sizing: border-box;top: 0;bottom: 0;left: 50%;z-index: 0;}#sk-container-id-1 div.sk-serial {display: flex;flex-direction: column;align-items: center;background-color: white;padding-right: 0.2em;padding-left: 0.2em;position: relative;}#sk-container-id-1 div.sk-item {position: relative;z-index: 1;}#sk-container-id-1 div.sk-parallel {display: flex;align-items: stretch;justify-content: center;background-color: white;position: relative;}#sk-container-id-1 div.sk-item::before, #sk-container-id-1 div.sk-parallel-item::before {content: \"\";position: absolute;border-left: 1px solid gray;box-sizing: border-box;top: 0;bottom: 0;left: 50%;z-index: -1;}#sk-container-id-1 div.sk-parallel-item {display: flex;flex-direction: column;z-index: 1;position: relative;background-color: white;}#sk-container-id-1 div.sk-parallel-item:first-child::after {align-self: flex-end;width: 50%;}#sk-container-id-1 div.sk-parallel-item:last-child::after {align-self: flex-start;width: 50%;}#sk-container-id-1 div.sk-parallel-item:only-child::after {width: 0;}#sk-container-id-1 div.sk-dashed-wrapped {border: 1px dashed gray;margin: 0 0.4em 0.5em 0.4em;box-sizing: border-box;padding-bottom: 0.4em;background-color: white;}#sk-container-id-1 div.sk-label label {font-family: monospace;font-weight: bold;display: inline-block;line-height: 1.2em;}#sk-container-id-1 div.sk-label-container {text-align: center;}#sk-container-id-1 div.sk-container {/* jupyter's `normalize.less` sets `[hidden] { display: none; }` but bootstrap.min.css set `[hidden] { display: none !important; }` so we also need the `!important` here to be able to override the default hidden behavior on the sphinx rendered scikit-learn.org. See: https://github.com/scikit-learn/scikit-learn/issues/21755 */display: inline-block !important;position: relative;}#sk-container-id-1 div.sk-text-repr-fallback {display: none;}</style><div id=\"sk-container-id-1\" class=\"sk-top-container\"><div class=\"sk-text-repr-fallback\"><pre>LinearRegression()</pre><b>In a Jupyter environment, please rerun this cell to show the HTML representation or trust the notebook. <br />On GitHub, the HTML representation is unable to render, please try loading this page with nbviewer.org.</b></div><div class=\"sk-container\" hidden><div class=\"sk-item\"><div class=\"sk-estimator sk-toggleable\"><input class=\"sk-toggleable__control sk-hidden--visually\" id=\"sk-estimator-id-1\" type=\"checkbox\" checked><label for=\"sk-estimator-id-1\" class=\"sk-toggleable__label sk-toggleable__label-arrow\">LinearRegression</label><div class=\"sk-toggleable__content\"><pre>LinearRegression()</pre></div></div></div></div></div>"
      ],
      "text/plain": [
       "LinearRegression()"
      ]
     },
     "execution_count": 31,
     "metadata": {},
     "output_type": "execute_result"
    }
   ],
   "source": [
    "model = LinearRegression()\n",
    "model"
   ]
  },
  {
   "cell_type": "code",
   "execution_count": 32,
   "id": "d93d1a8f-1fbc-4e1b-8b1b-77303cb197cd",
   "metadata": {},
   "outputs": [
    {
     "name": "stdout",
     "output_type": "stream",
     "text": [
      "Model Training is completed\n"
     ]
    }
   ],
   "source": [
    "model_train = model.fit(X_train , y_train)\n",
    "print('Model Training is completed')"
   ]
  },
  {
   "cell_type": "code",
   "execution_count": null,
   "id": "a3e97feb-3c3a-413c-91f0-65168ebea3b5",
   "metadata": {},
   "outputs": [],
   "source": [
    "## Validated the model & The Evaluated"
   ]
  },
  {
   "cell_type": "code",
   "execution_count": 34,
   "id": "ec40d5fa-05f6-426e-9ce1-813bf633bf22",
   "metadata": {},
   "outputs": [
    {
     "name": "stdout",
     "output_type": "stream",
     "text": [
      "[[ 5.39560529]\n",
      " [ 6.85810195]\n",
      " [ 7.23600807]\n",
      " [ 7.26624056]\n",
      " [ 6.0758363 ]\n",
      " [ 4.87409485]\n",
      " [ 6.53688176]\n",
      " [ 6.61624204]\n",
      " [ 2.79561122]\n",
      " [ 4.11828262]\n",
      " [ 8.84210906]\n",
      " [ 6.95257848]\n",
      " [ 3.83485303]\n",
      " [ 4.96857138]\n",
      " [ 7.89734377]\n",
      " [10.73163963]]\n"
     ]
    }
   ],
   "source": [
    "pred = model.predict(X_train)\n",
    "print(pred)"
   ]
  },
  {
   "cell_type": "code",
   "execution_count": 35,
   "id": "1b771b31-4072-42d3-ba24-aaab0b326830",
   "metadata": {},
   "outputs": [
    {
     "name": "stdout",
     "output_type": "stream",
     "text": [
      "[[6.51042833]\n",
      " [4.31857286]\n",
      " [5.57322116]\n",
      " [3.36247039]\n",
      " [7.70839071]]\n"
     ]
    }
   ],
   "source": [
    "pred = model.predict(X_test)\n",
    "print(pred)"
   ]
  },
  {
   "cell_type": "code",
   "execution_count": 36,
   "id": "51efee2b-e28c-4e0e-a560-bff2e53eb075",
   "metadata": {},
   "outputs": [
    {
     "name": "stdout",
     "output_type": "stream",
     "text": [
      "[[1.28398676]\n",
      " [3.17351733]\n",
      " [2.03979899]\n",
      " [2.79561122]\n",
      " [2.4177051 ]\n",
      " [1.28398676]\n",
      " [3.55142345]\n",
      " [2.4177051 ]\n",
      " [0.52817453]\n",
      " [0.90608064]\n",
      " [3.17351733]\n",
      " [2.4177051 ]\n",
      " [1.28398676]\n",
      " [2.03979899]\n",
      " [1.66189287]\n",
      " [3.55142345]]\n"
     ]
    }
   ],
   "source": [
    "pred = model.predict(y_train)\n",
    "print(pred)"
   ]
  },
  {
   "cell_type": "code",
   "execution_count": 37,
   "id": "b524939f-8d6c-4e70-bcf4-3a829db7f475",
   "metadata": {},
   "outputs": [
    {
     "name": "stdout",
     "output_type": "stream",
     "text": [
      "[[2.4177051 ]\n",
      " [0.90608064]\n",
      " [2.03979899]\n",
      " [0.90608064]\n",
      " [3.55142345]]\n"
     ]
    }
   ],
   "source": [
    "pred = model.predict(y_test)\n",
    "print(pred)"
   ]
  },
  {
   "cell_type": "code",
   "execution_count": null,
   "id": "be243e2e-50f7-4c70-9bd7-b2c5a6721e62",
   "metadata": {},
   "outputs": [],
   "source": [
    "#### compare with the Actual and Check the accuracy - "
   ]
  },
  {
   "cell_type": "code",
   "execution_count": 38,
   "id": "4523a27e-a4da-44e1-ac64-58c450c5a5f1",
   "metadata": {},
   "outputs": [
    {
     "data": {
      "text/plain": [
       "array([[ 7],\n",
       "       [ 3],\n",
       "       [ 6],\n",
       "       [ 3],\n",
       "       [10]], dtype=int64)"
      ]
     },
     "execution_count": 38,
     "metadata": {},
     "output_type": "execute_result"
    }
   ],
   "source": [
    "y_test"
   ]
  },
  {
   "cell_type": "code",
   "execution_count": 39,
   "id": "94c8ff78-af38-46fa-a784-94b0ee6b10e8",
   "metadata": {},
   "outputs": [
    {
     "data": {
      "text/plain": [
       "array([[2.4177051 ],\n",
       "       [0.90608064],\n",
       "       [2.03979899],\n",
       "       [0.90608064],\n",
       "       [3.55142345]])"
      ]
     },
     "execution_count": 39,
     "metadata": {},
     "output_type": "execute_result"
    }
   ],
   "source": [
    "pred"
   ]
  },
  {
   "cell_type": "code",
   "execution_count": null,
   "id": "b068fd01-0350-483c-8667-e2985a02fc12",
   "metadata": {},
   "outputs": [],
   "source": [
    "#rsquare values  - to check the strength of the Model - 0 to 1\n",
    "### if it is closer to 1 , that means the Model is Strong , closer to 0 weak model\n",
    "##### mean squared error / root mean squared error "
   ]
  },
  {
   "cell_type": "code",
   "execution_count": 50,
   "id": "37286d23-b9de-46e8-bed7-c5b654dbd08d",
   "metadata": {},
   "outputs": [],
   "source": [
    "from sklearn.metrics import r2_score , mean_squared_error\n",
    "from math import sqrt"
   ]
  },
  {
   "cell_type": "code",
   "execution_count": 61,
   "id": "53333c81-98b1-4851-84ff-8357a3f742b7",
   "metadata": {},
   "outputs": [
    {
     "name": "stdout",
     "output_type": "stream",
     "text": [
      "r2_score -  -1.5009699642419676\n"
     ]
    }
   ],
   "source": [
    "print('r2_score - ',r2_score(y_test,pred))"
   ]
  },
  {
   "cell_type": "code",
   "execution_count": 63,
   "id": "cbc59164-8c9a-4801-9b4e-9c964dbab4a7",
   "metadata": {},
   "outputs": [
    {
     "name": "stdout",
     "output_type": "stream",
     "text": [
      "sqrt mean sqrd error -  4.172139852776281\n"
     ]
    }
   ],
   "source": [
    "print('sqrt mean sqrd error - ' , sqrt(mean_squared_error(y_test,pred)))"
   ]
  },
  {
   "cell_type": "code",
   "execution_count": 65,
   "id": "57b677a9-50cb-4b87-bc84-47325d201069",
   "metadata": {},
   "outputs": [
    {
     "name": "stdout",
     "output_type": "stream",
     "text": [
      "mean sqr error -  17.406750951124092\n"
     ]
    }
   ],
   "source": [
    "print('mean sqr error - ',mean_squared_error(y_test,pred))"
   ]
  },
  {
   "cell_type": "code",
   "execution_count": 66,
   "id": "c38ebebb-8ac9-4866-bb9d-aafac62a9ce4",
   "metadata": {},
   "outputs": [
    {
     "data": {
      "text/plain": [
       "<Axes: >"
      ]
     },
     "execution_count": 66,
     "metadata": {},
     "output_type": "execute_result"
    },
    {
     "data": {
      "image/png": "[encoded data removed]",
      "text/plain": [
       "<Figure size 1000x200 with 1 Axes>"
      ]
     },
     "metadata": {},
     "output_type": "display_data"
    }
   ],
   "source": [
    "plt.figure(figsize=(10,2))\n",
    "data['Delivery Time'].plot()\n",
    "data['Sorting Time'].plot()"
   ]
  },
  {
   "cell_type": "code",
   "execution_count": null,
   "id": "b1cc7d3a-22fc-48fb-8502-c695f0e393b9",
   "metadata": {},
   "outputs": [],
   "source": []
  },
  {
   "cell_type": "code",
   "execution_count": null,
   "id": "42526e11-478a-435c-881c-2c80433c122e",
   "metadata": {},
   "outputs": [],
   "source": []
  },
  {
   "cell_type": "code",
   "execution_count": null,
   "id": "72202013-bb5d-4174-ba91-9b3607381d53",
   "metadata": {},
   "outputs": [],
   "source": []
  },
  {
   "cell_type": "code",
   "execution_count": null,
   "id": "c6835610-0cba-4b16-bc9d-57defdf1e343",
   "metadata": {},
   "outputs": [],
   "source": []
  }
 ],
 "metadata": {
  "kernelspec": {
   "display_name": "Python 3 (ipykernel)",
   "language": "python",
   "name": "python3"
  },
  "language_info": {
   "codemirror_mode": {
    "name": "ipython",
    "version": 3
   },
   "file_extension": ".py",
   "mimetype": "text/x-python",
   "name": "python",
   "nbconvert_exporter": "python",
   "pygments_lexer": "ipython3",
   "version": "3.11.7"
  }
 },
 "nbformat": 4,
 "nbformat_minor": 5
}
