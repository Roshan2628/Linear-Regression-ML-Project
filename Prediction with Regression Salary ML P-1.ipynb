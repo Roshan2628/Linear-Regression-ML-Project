{
 "cells": [
  {
   "cell_type": "markdown",
   "id": "21d80d8f-fd6a-44d6-85d8-2c3478247a35",
   "metadata": {},
   "source": [
    "# Prediction with Regression Delivery Data Simple Linear Regression Project"
   ]
  },
  {
   "cell_type": "markdown",
   "id": "54139d5a-5ca2-4f64-b7fb-7bc1f6316a5b",
   "metadata": {},
   "source": [
    "# Prediction with Regression Delivery Data Simple Linear Regression Project"
   ]
  },
  {
   "cell_type": "code",
   "execution_count": 1,
   "id": "c9b6b19d-17cf-4dc7-8144-df41927dd3e3",
   "metadata": {},
   "outputs": [],
   "source": [
    "## Importing the Libraries\n",
    "import pandas as pd\n",
    "import numpy as np\n",
    "import seaborn as sns\n",
    "import matplotlib.pyplot as plt\n",
    "from sklearn.linear_model import LinearRegression"
   ]
  },
  {
   "cell_type": "code",
   "execution_count": 68,
   "id": "47b6772c-eeb8-4bf7-a2f9-33c32887b76b",
   "metadata": {},
   "outputs": [
    {
     "name": "stdout",
     "output_type": "stream",
     "text": [
      "   YearsExperience   Salary\n",
      "0              1.1  39343.0\n",
      "1              1.3  46205.0\n"
     ]
    }
   ],
   "source": [
    "# Loading the dataset from system\n",
    "data = pd.read_csv('D:/Top Mentor/Classes Details/07th April 2024/Assignment/Project - 1&2_ Simple_Reg/Salary_Data.csv')\n",
    "print(data.head(2))"
   ]
  },
  {
   "cell_type": "code",
   "execution_count": 69,
   "id": "69f5bf6e-acde-4c69-8c12-ffa4f3daab37",
   "metadata": {},
   "outputs": [
    {
     "name": "stdout",
     "output_type": "stream",
     "text": [
      "   YearsExperience   Salary\n",
      "0              1.1  39343.0\n",
      "1              1.3  46205.0\n"
     ]
    }
   ],
   "source": [
    "## Copy our data that our main data will be actual -:\n",
    "df = data.copy()\n",
    "print(df.head(2))"
   ]
  },
  {
   "cell_type": "code",
   "execution_count": 71,
   "id": "4f6c9fbb-b6ad-414c-a4a9-d11e4f7098b1",
   "metadata": {},
   "outputs": [
    {
     "name": "stdout",
     "output_type": "stream",
     "text": [
      "Min Exp  -  1.1\n",
      "Max Exp  -  10.5\n",
      "Min Salary  -  37731.0\n",
      "Max Salary -  122391.0\n"
     ]
    }
   ],
   "source": [
    "## Data Reading Basic Steps :-\n",
    "print('Min Exp  - ',df['YearsExperience'].min())\n",
    "print('Max Exp  - ',df['YearsExperience'].max())\n",
    "print('Min Salary  - ',df['Salary'].min())\n",
    "print('Max Salary - ',df['Salary'].max())"
   ]
  },
  {
   "cell_type": "code",
   "execution_count": 72,
   "id": "ab263fee-ae04-458c-8354-923cd7e4e454",
   "metadata": {},
   "outputs": [
    {
     "name": "stdout",
     "output_type": "stream",
     "text": [
      "no of columns -  Index(['YearsExperience', 'Salary'], dtype='object')\n",
      "no of shapes -  (30, 2)\n",
      "no of lenght -  30\n",
      "no of datatype - \n",
      " YearsExperience    float64\n",
      "Salary             float64\n",
      "dtype: object\n"
     ]
    }
   ],
   "source": [
    "##Checking Data Parameter :-\n",
    "print('no of columns - ' , df.columns)\n",
    "print('no of shapes - ' , df.shape)\n",
    "print('no of lenght - ' , len(df))\n",
    "print('no of datatype - \\n' , df.dtypes)"
   ]
  },
  {
   "cell_type": "code",
   "execution_count": null,
   "id": "2e3782b6-994a-4cb4-b16d-7537456ce59d",
   "metadata": {},
   "outputs": [],
   "source": [
    "## We are doing EDA on the data - "
   ]
  },
  {
   "cell_type": "code",
   "execution_count": 73,
   "id": "920578a1-92c0-4572-bcee-dbc2097acaa8",
   "metadata": {},
   "outputs": [
    {
     "name": "stdout",
     "output_type": "stream",
     "text": [
      "       YearsExperience         Salary\n",
      "count        30.000000      30.000000\n",
      "mean          5.313333   76003.000000\n",
      "std           2.837888   27414.429785\n",
      "min           1.100000   37731.000000\n",
      "25%           3.200000   56720.750000\n",
      "50%           4.700000   65237.000000\n",
      "75%           7.700000  100544.750000\n",
      "max          10.500000  122391.000000\n"
     ]
    }
   ],
   "source": [
    "print(data.describe())"
   ]
  },
  {
   "cell_type": "code",
   "execution_count": 74,
   "id": "411803cc-f69c-4555-8302-53f82ecb6122",
   "metadata": {},
   "outputs": [
    {
     "data": {
      "text/plain": [
       "YearsExperience    0\n",
       "Salary             0\n",
       "dtype: int64"
      ]
     },
     "execution_count": 74,
     "metadata": {},
     "output_type": "execute_result"
    }
   ],
   "source": [
    "## Checking the null values - \n",
    "df.isnull().sum()"
   ]
  },
  {
   "cell_type": "code",
   "execution_count": 75,
   "id": "8d2a03af-9c30-427e-8d69-2229cc03580a",
   "metadata": {},
   "outputs": [
    {
     "name": "stdout",
     "output_type": "stream",
     "text": [
      "0.37956024064804106\n"
     ]
    },
    {
     "name": "stderr",
     "output_type": "stream",
     "text": [
      "C:\\Users\\DELL\\AppData\\Local\\Temp\\ipykernel_22152\\2818512424.py:2: UserWarning: \n",
      "\n",
      "`distplot` is a deprecated function and will be removed in seaborn v0.14.0.\n",
      "\n",
      "Please adapt your code to use either `displot` (a figure-level function with\n",
      "similar flexibility) or `histplot` (an axes-level function for histograms).\n",
      "\n",
      "For a guide to updating your code to use the new functions, please see\n",
      "https://gist.github.com/mwaskom/de44147ed2974457ad6372750bbe5751\n",
      "\n",
      "  sns.distplot( x = data['YearsExperience'])\n",
      "C:\\Users\\DELL\\anaconda3\\Lib\\site-packages\\seaborn\\_oldcore.py:1119: FutureWarning: use_inf_as_na option is deprecated and will be removed in a future version. Convert inf values to NaN before operating instead.\n",
      "  with pd.option_context('mode.use_inf_as_na', True):\n"
     ]
    },
    {
     "data": {
      "image/png": "[encoded data removed]",
      "text/plain": [
       "<Figure size 200x200 with 1 Axes>"
      ]
     },
     "metadata": {},
     "output_type": "display_data"
    }
   ],
   "source": [
    "plt.figure(figsize=(2,2))\n",
    "sns.distplot( x = data['YearsExperience'])\n",
    "print (data['YearsExperience'].skew())"
   ]
  },
  {
   "cell_type": "code",
   "execution_count": 76,
   "id": "dd79652a-61cf-47b2-9ba5-a3e7ccb74402",
   "metadata": {},
   "outputs": [
    {
     "name": "stdout",
     "output_type": "stream",
     "text": [
      "0.35411967922959153\n"
     ]
    },
    {
     "name": "stderr",
     "output_type": "stream",
     "text": [
      "C:\\Users\\DELL\\AppData\\Local\\Temp\\ipykernel_22152\\785234701.py:2: UserWarning: \n",
      "\n",
      "`distplot` is a deprecated function and will be removed in seaborn v0.14.0.\n",
      "\n",
      "Please adapt your code to use either `displot` (a figure-level function with\n",
      "similar flexibility) or `histplot` (an axes-level function for histograms).\n",
      "\n",
      "For a guide to updating your code to use the new functions, please see\n",
      "https://gist.github.com/mwaskom/de44147ed2974457ad6372750bbe5751\n",
      "\n",
      "  sns.distplot( x = data['Salary'])\n",
      "C:\\Users\\DELL\\anaconda3\\Lib\\site-packages\\seaborn\\_oldcore.py:1119: FutureWarning: use_inf_as_na option is deprecated and will be removed in a future version. Convert inf values to NaN before operating instead.\n",
      "  with pd.option_context('mode.use_inf_as_na', True):\n"
     ]
    },
    {
     "data": {
      "image/png": "[encoded data removed]",
      "text/plain": [
       "<Figure size 200x200 with 1 Axes>"
      ]
     },
     "metadata": {},
     "output_type": "display_data"
    }
   ],
   "source": [
    "plt.figure(figsize=(2,2))\n",
    "sns.distplot( x = data['Salary'])\n",
    "print (data['Salary'].skew())"
   ]
  },
  {
   "cell_type": "code",
   "execution_count": 77,
   "id": "d274acb3-2252-4584-8bb7-27cfa02c0666",
   "metadata": {},
   "outputs": [
    {
     "data": {
      "text/plain": [
       "<Axes: xlabel='YearsExperience', ylabel='Salary'>"
      ]
     },
     "execution_count": 77,
     "metadata": {},
     "output_type": "execute_result"
    },
    {
     "data": {
      "image/png": "[encoded data removed]",
      "text/plain": [
       "<Figure size 200x200 with 1 Axes>"
      ]
     },
     "metadata": {},
     "output_type": "display_data"
    }
   ],
   "source": [
    "plt.figure(figsize=(2,2))\n",
    "sns.scatterplot(x = data['YearsExperience'] , y = data['Salary'])"
   ]
  },
  {
   "cell_type": "code",
   "execution_count": 103,
   "id": "5ff263a4-0435-499b-b362-af2d0708c795",
   "metadata": {},
   "outputs": [
    {
     "ename": "NameError",
     "evalue": "name 'graphs_folder' is not defined",
     "output_type": "error",
     "traceback": [
      "\u001b[1;31m---------------------------------------------------------------------------\u001b[0m",
      "\u001b[1;31mNameError\u001b[0m                                 Traceback (most recent call last)",
      "Cell \u001b[1;32mIn[103], line 6\u001b[0m\n\u001b[0;32m      4\u001b[0m plt\u001b[38;5;241m.\u001b[39mxlabel(\u001b[38;5;124m\"\u001b[39m\u001b[38;5;124mYears of Experience\u001b[39m\u001b[38;5;124m\"\u001b[39m)\n\u001b[0;32m      5\u001b[0m plt\u001b[38;5;241m.\u001b[39mylabel(\u001b[38;5;124m\"\u001b[39m\u001b[38;5;124mSalary\u001b[39m\u001b[38;5;124m\"\u001b[39m)\n\u001b[1;32m----> 6\u001b[0m plt\u001b[38;5;241m.\u001b[39msavefig(\u001b[38;5;124mf\u001b[39m\u001b[38;5;124m\"\u001b[39m\u001b[38;5;132;01m{\u001b[39;00mgraphs_folder\u001b[38;5;132;01m}\u001b[39;00m\u001b[38;5;124m/salary_vs_experience_scatter.png\u001b[39m\u001b[38;5;124m\"\u001b[39m)\n",
      "\u001b[1;31mNameError\u001b[0m: name 'graphs_folder' is not defined"
     ]
    },
    {
     "data": {
      "image/png": "[encoded data removed]",
      "text/plain": [
       "<Figure size 300x300 with 1 Axes>"
      ]
     },
     "metadata": {},
     "output_type": "display_data"
    }
   ],
   "source": [
    "plt.figure(figsize=(3, 3))\n",
    "sns.scatterplot(x=data[\"YearsExperience\"], y=data[\"Salary\"])\n",
    "plt.title(\"Salary vs. Years of Experience\")\n",
    "plt.xlabel(\"Years of Experience\")\n",
    "plt.ylabel(\"Salary\")\n",
    "plt.savefig(f\"{graphs_folder}/salary_vs_experience_scatter.png\")"
   ]
  },
  {
   "cell_type": "code",
   "execution_count": null,
   "id": "a01ff048-1443-4095-90d5-ec9bf6fab6ab",
   "metadata": {},
   "outputs": [],
   "source": [
    "### Sampling of Data  - Splitting the data into Training & Testing "
   ]
  },
  {
   "cell_type": "code",
   "execution_count": 22,
   "id": "6d8b67f3-5a9c-4774-b0bf-d3c688ab2a18",
   "metadata": {},
   "outputs": [],
   "source": [
    "from sklearn.model_selection import train_test_split"
   ]
  },
  {
   "cell_type": "code",
   "execution_count": 78,
   "id": "46b318ff-7848-45eb-86dd-cb009d337c44",
   "metadata": {
    "scrolled": true
   },
   "outputs": [
    {
     "data": {
      "text/plain": [
       "array([[ 1.1],\n",
       "       [ 1.3],\n",
       "       [ 1.5],\n",
       "       [ 2. ],\n",
       "       [ 2.2],\n",
       "       [ 2.9],\n",
       "       [ 3. ],\n",
       "       [ 3.2],\n",
       "       [ 3.2],\n",
       "       [ 3.7],\n",
       "       [ 3.9],\n",
       "       [ 4. ],\n",
       "       [ 4. ],\n",
       "       [ 4.1],\n",
       "       [ 4.5],\n",
       "       [ 4.9],\n",
       "       [ 5.1],\n",
       "       [ 5.3],\n",
       "       [ 5.9],\n",
       "       [ 6. ],\n",
       "       [ 6.8],\n",
       "       [ 7.1],\n",
       "       [ 7.9],\n",
       "       [ 8.2],\n",
       "       [ 8.7],\n",
       "       [ 9. ],\n",
       "       [ 9.5],\n",
       "       [ 9.6],\n",
       "       [10.3],\n",
       "       [10.5]])"
      ]
     },
     "execution_count": 78,
     "metadata": {},
     "output_type": "execute_result"
    }
   ],
   "source": [
    "X = data['YearsExperience'].values.reshape(-1,1)\n",
    "X"
   ]
  },
  {
   "cell_type": "code",
   "execution_count": 79,
   "id": "77bffd8e-25a0-4309-bd63-9857f1580935",
   "metadata": {},
   "outputs": [
    {
     "data": {
      "text/plain": [
       "array([[ 39343.],\n",
       "       [ 46205.],\n",
       "       [ 37731.],\n",
       "       [ 43525.],\n",
       "       [ 39891.],\n",
       "       [ 56642.],\n",
       "       [ 60150.],\n",
       "       [ 54445.],\n",
       "       [ 64445.],\n",
       "       [ 57189.],\n",
       "       [ 63218.],\n",
       "       [ 55794.],\n",
       "       [ 56957.],\n",
       "       [ 57081.],\n",
       "       [ 61111.],\n",
       "       [ 67938.],\n",
       "       [ 66029.],\n",
       "       [ 83088.],\n",
       "       [ 81363.],\n",
       "       [ 93940.],\n",
       "       [ 91738.],\n",
       "       [ 98273.],\n",
       "       [101302.],\n",
       "       [113812.],\n",
       "       [109431.],\n",
       "       [105582.],\n",
       "       [116969.],\n",
       "       [112635.],\n",
       "       [122391.],\n",
       "       [121872.]])"
      ]
     },
     "execution_count": 79,
     "metadata": {},
     "output_type": "execute_result"
    }
   ],
   "source": [
    "y = data['Salary'].values.reshape(-1,1)\n",
    "y"
   ]
  },
  {
   "cell_type": "code",
   "execution_count": 80,
   "id": "1915f55f-a96e-4893-bbe2-7c9689cce4a8",
   "metadata": {},
   "outputs": [],
   "source": [
    "X_train, X_test,y_train,y_test = train_test_split(X,y,test_size=0.2)"
   ]
  },
  {
   "cell_type": "code",
   "execution_count": 81,
   "id": "ca960862-b7f2-498c-8d04-64c244ad9709",
   "metadata": {},
   "outputs": [
    {
     "data": {
      "text/plain": [
       "((24, 1), (24, 1))"
      ]
     },
     "execution_count": 81,
     "metadata": {},
     "output_type": "execute_result"
    }
   ],
   "source": [
    "X_train.shape , y_train.shape"
   ]
  },
  {
   "cell_type": "code",
   "execution_count": 82,
   "id": "77478a22-52ff-4f83-b9e5-7b96deb16c7d",
   "metadata": {},
   "outputs": [
    {
     "data": {
      "text/plain": [
       "((6, 1), (6, 1))"
      ]
     },
     "execution_count": 82,
     "metadata": {},
     "output_type": "execute_result"
    }
   ],
   "source": [
    "X_test.shape , y_test.shape"
   ]
  },
  {
   "cell_type": "code",
   "execution_count": 29,
   "id": "854c504d-5756-4e14-9edd-6dec73041ce2",
   "metadata": {},
   "outputs": [],
   "source": [
    "### Modeling of Data"
   ]
  },
  {
   "cell_type": "code",
   "execution_count": 83,
   "id": "08b554fa-8bd4-4c30-ab2f-c4608fda9148",
   "metadata": {},
   "outputs": [
    {
     "data": {
      "text/html": [
       "<style>#sk-container-id-2 {color: black;background-color: white;}#sk-container-id-2 pre{padding: 0;}#sk-container-id-2 div.sk-toggleable {background-color: white;}#sk-container-id-2 label.sk-toggleable__label {cursor: pointer;display: block;width: 100%;margin-bottom: 0;padding: 0.3em;box-sizing: border-box;text-align: center;}#sk-container-id-2 label.sk-toggleable__label-arrow:before {content: \"▸\";float: left;margin-right: 0.25em;color: #696969;}#sk-container-id-2 label.sk-toggleable__label-arrow:hover:before {color: black;}#sk-container-id-2 div.sk-estimator:hover label.sk-toggleable__label-arrow:before {color: black;}#sk-container-id-2 div.sk-toggleable__content {max-height: 0;max-width: 0;overflow: hidden;text-align: left;background-color: #f0f8ff;}#sk-container-id-2 div.sk-toggleable__content pre {margin: 0.2em;color: black;border-radius: 0.25em;background-color: #f0f8ff;}#sk-container-id-2 input.sk-toggleable__control:checked~div.sk-toggleable__content {max-height: 200px;max-width: 100%;overflow: auto;}#sk-container-id-2 input.sk-toggleable__control:checked~label.sk-toggleable__label-arrow:before {content: \"▾\";}#sk-container-id-2 div.sk-estimator input.sk-toggleable__control:checked~label.sk-toggleable__label {background-color: #d4ebff;}#sk-container-id-2 div.sk-label input.sk-toggleable__control:checked~label.sk-toggleable__label {background-color: #d4ebff;}#sk-container-id-2 input.sk-hidden--visually {border: 0;clip: rect(1px 1px 1px 1px);clip: rect(1px, 1px, 1px, 1px);height: 1px;margin: -1px;overflow: hidden;padding: 0;position: absolute;width: 1px;}#sk-container-id-2 div.sk-estimator {font-family: monospace;background-color: #f0f8ff;border: 1px dotted black;border-radius: 0.25em;box-sizing: border-box;margin-bottom: 0.5em;}#sk-container-id-2 div.sk-estimator:hover {background-color: #d4ebff;}#sk-container-id-2 div.sk-parallel-item::after {content: \"\";width: 100%;border-bottom: 1px solid gray;flex-grow: 1;}#sk-container-id-2 div.sk-label:hover label.sk-toggleable__label {background-color: #d4ebff;}#sk-container-id-2 div.sk-serial::before {content: \"\";position: absolute;border-left: 1px solid gray;box-sizing: border-box;top: 0;bottom: 0;left: 50%;z-index: 0;}#sk-container-id-2 div.sk-serial {display: flex;flex-direction: column;align-items: center;background-color: white;padding-right: 0.2em;padding-left: 0.2em;position: relative;}#sk-container-id-2 div.sk-item {position: relative;z-index: 1;}#sk-container-id-2 div.sk-parallel {display: flex;align-items: stretch;justify-content: center;background-color: white;position: relative;}#sk-container-id-2 div.sk-item::before, #sk-container-id-2 div.sk-parallel-item::before {content: \"\";position: absolute;border-left: 1px solid gray;box-sizing: border-box;top: 0;bottom: 0;left: 50%;z-index: -1;}#sk-container-id-2 div.sk-parallel-item {display: flex;flex-direction: column;z-index: 1;position: relative;background-color: white;}#sk-container-id-2 div.sk-parallel-item:first-child::after {align-self: flex-end;width: 50%;}#sk-container-id-2 div.sk-parallel-item:last-child::after {align-self: flex-start;width: 50%;}#sk-container-id-2 div.sk-parallel-item:only-child::after {width: 0;}#sk-container-id-2 div.sk-dashed-wrapped {border: 1px dashed gray;margin: 0 0.4em 0.5em 0.4em;box-sizing: border-box;padding-bottom: 0.4em;background-color: white;}#sk-container-id-2 div.sk-label label {font-family: monospace;font-weight: bold;display: inline-block;line-height: 1.2em;}#sk-container-id-2 div.sk-label-container {text-align: center;}#sk-container-id-2 div.sk-container {/* jupyter's `normalize.less` sets `[hidden] { display: none; }` but bootstrap.min.css set `[hidden] { display: none !important; }` so we also need the `!important` here to be able to override the default hidden behavior on the sphinx rendered scikit-learn.org. See: https://github.com/scikit-learn/scikit-learn/issues/21755 */display: inline-block !important;position: relative;}#sk-container-id-2 div.sk-text-repr-fallback {display: none;}</style><div id=\"sk-container-id-2\" class=\"sk-top-container\"><div class=\"sk-text-repr-fallback\"><pre>LinearRegression()</pre><b>In a Jupyter environment, please rerun this cell to show the HTML representation or trust the notebook. <br />On GitHub, the HTML representation is unable to render, please try loading this page with nbviewer.org.</b></div><div class=\"sk-container\" hidden><div class=\"sk-item\"><div class=\"sk-estimator sk-toggleable\"><input class=\"sk-toggleable__control sk-hidden--visually\" id=\"sk-estimator-id-2\" type=\"checkbox\" checked><label for=\"sk-estimator-id-2\" class=\"sk-toggleable__label sk-toggleable__label-arrow\">LinearRegression</label><div class=\"sk-toggleable__content\"><pre>LinearRegression()</pre></div></div></div></div></div>"
      ],
      "text/plain": [
       "LinearRegression()"
      ]
     },
     "execution_count": 83,
     "metadata": {},
     "output_type": "execute_result"
    }
   ],
   "source": [
    "model = LinearRegression()\n",
    "model"
   ]
  },
  {
   "cell_type": "code",
   "execution_count": 84,
   "id": "d93d1a8f-1fbc-4e1b-8b1b-77303cb197cd",
   "metadata": {},
   "outputs": [
    {
     "name": "stdout",
     "output_type": "stream",
     "text": [
      "Model Training is completed\n"
     ]
    }
   ],
   "source": [
    "model_train = model.fit(X_train , y_train)\n",
    "print('Model Training is completed')"
   ]
  },
  {
   "cell_type": "code",
   "execution_count": null,
   "id": "a3e97feb-3c3a-413c-91f0-65168ebea3b5",
   "metadata": {},
   "outputs": [],
   "source": [
    "## Validated the model & The Evaluated"
   ]
  },
  {
   "cell_type": "code",
   "execution_count": 85,
   "id": "ec40d5fa-05f6-426e-9ce1-813bf633bf22",
   "metadata": {},
   "outputs": [
    {
     "name": "stdout",
     "output_type": "stream",
     "text": [
      "[[ 72153.95280301]\n",
      " [ 60709.59477696]\n",
      " [123653.5639202 ]\n",
      " [ 55941.11226611]\n",
      " [ 63570.68428347]\n",
      " [ 93135.27585075]\n",
      " [ 62616.9877813 ]\n",
      " [ 82644.61432688]\n",
      " [ 81690.91782471]\n",
      " [111255.50939198]\n",
      " [ 37820.87872488]\n",
      " [ 63570.68428347]\n",
      " [ 53080.0227596 ]\n",
      " [ 46404.14724441]\n",
      " [ 64524.38078564]\n",
      " [ 68339.16679432]\n",
      " [100764.84786811]\n",
      " [ 44496.75424007]\n",
      " [116023.99190283]\n",
      " [125560.95692454]\n",
      " [ 55941.11226611]\n",
      " [ 90274.18634424]\n",
      " [ 54033.71926177]\n",
      " [103625.93737462]]\n"
     ]
    }
   ],
   "source": [
    "pred = model.predict(X_train)\n",
    "print(pred)"
   ]
  },
  {
   "cell_type": "code",
   "execution_count": 86,
   "id": "1b771b31-4072-42d3-ba24-aaab0b326830",
   "metadata": {},
   "outputs": [
    {
     "name": "stdout",
     "output_type": "stream",
     "text": [
      "[[116977.688405  ]\n",
      " [ 75968.73881169]\n",
      " [108394.41988547]\n",
      " [ 74061.34580735]\n",
      " [ 39728.27172922]\n",
      " [ 35913.48572054]]\n"
     ]
    }
   ],
   "source": [
    "pred = model.predict(X_test)\n",
    "print(pred)"
   ]
  },
  {
   "cell_type": "code",
   "execution_count": 87,
   "id": "51efee2b-e28c-4e0e-a560-bff2e53eb075",
   "metadata": {},
   "outputs": [
    {
     "name": "stdout",
     "output_type": "stream",
     "text": [
      "[[6.47947752e+08]\n",
      " [5.45434915e+08]\n",
      " [1.16726411e+09]\n",
      " [5.19265483e+08]\n",
      " [5.32130849e+08]\n",
      " [9.37251586e+08]\n",
      " [6.02933278e+08]\n",
      " [8.95927917e+08]\n",
      " [7.75981508e+08]\n",
      " [1.00695726e+09]\n",
      " [4.40680892e+08]\n",
      " [5.43222340e+08]\n",
      " [5.40218196e+08]\n",
      " [3.80464495e+08]\n",
      " [5.44404923e+08]\n",
      " [5.82838892e+08]\n",
      " [9.66139053e+08]\n",
      " [4.15121825e+08]\n",
      " [1.11555468e+09]\n",
      " [1.16231442e+09]\n",
      " [6.14635134e+08]\n",
      " [8.74927520e+08]\n",
      " [5.73673869e+08]\n",
      " [1.08544649e+09]]\n"
     ]
    }
   ],
   "source": [
    "pred = model.predict(y_train)\n",
    "print(pred)"
   ]
  },
  {
   "cell_type": "code",
   "execution_count": 88,
   "id": "b524939f-8d6c-4e70-bcf4-3a829db7f475",
   "metadata": {},
   "outputs": [
    {
     "name": "stdout",
     "output_type": "stream",
     "text": [
      "[[1.07422148e+09]\n",
      " [7.92432773e+08]\n",
      " [1.04366504e+09]\n",
      " [6.29741686e+08]\n",
      " [3.59864650e+08]\n",
      " [3.75238238e+08]]\n"
     ]
    }
   ],
   "source": [
    "pred = model.predict(y_test)\n",
    "print(pred)"
   ]
  },
  {
   "cell_type": "code",
   "execution_count": null,
   "id": "be243e2e-50f7-4c70-9bd7-b2c5a6721e62",
   "metadata": {},
   "outputs": [],
   "source": [
    "#### compare with the Actual and Check the accuracy - "
   ]
  },
  {
   "cell_type": "code",
   "execution_count": 89,
   "id": "4523a27e-a4da-44e1-ac64-58c450c5a5f1",
   "metadata": {},
   "outputs": [
    {
     "data": {
      "text/plain": [
       "array([[112635.],\n",
       "       [ 83088.],\n",
       "       [109431.],\n",
       "       [ 66029.],\n",
       "       [ 37731.],\n",
       "       [ 39343.]])"
      ]
     },
     "execution_count": 89,
     "metadata": {},
     "output_type": "execute_result"
    }
   ],
   "source": [
    "y_test"
   ]
  },
  {
   "cell_type": "code",
   "execution_count": 90,
   "id": "94c8ff78-af38-46fa-a784-94b0ee6b10e8",
   "metadata": {},
   "outputs": [
    {
     "data": {
      "text/plain": [
       "array([[1.07422148e+09],\n",
       "       [7.92432773e+08],\n",
       "       [1.04366504e+09],\n",
       "       [6.29741686e+08],\n",
       "       [3.59864650e+08],\n",
       "       [3.75238238e+08]])"
      ]
     },
     "execution_count": 90,
     "metadata": {},
     "output_type": "execute_result"
    }
   ],
   "source": [
    "pred"
   ]
  },
  {
   "cell_type": "code",
   "execution_count": null,
   "id": "b068fd01-0350-483c-8667-e2985a02fc12",
   "metadata": {},
   "outputs": [],
   "source": [
    "#rsquare values  - to check the strength of the Model - 0 to 1\n",
    "### if it is closer to 1 , that means the Model is Strong , closer to 0 weak model\n",
    "##### mean squared error / root mean squared error "
   ]
  },
  {
   "cell_type": "code",
   "execution_count": 91,
   "id": "37286d23-b9de-46e8-bed7-c5b654dbd08d",
   "metadata": {},
   "outputs": [],
   "source": [
    "from sklearn.metrics import r2_score , mean_squared_error\n",
    "from math import sqrt"
   ]
  },
  {
   "cell_type": "code",
   "execution_count": 92,
   "id": "53333c81-98b1-4851-84ff-8357a3f742b7",
   "metadata": {},
   "outputs": [
    {
     "name": "stdout",
     "output_type": "stream",
     "text": [
      "r2_score -  -654121602.4059381\n"
     ]
    }
   ],
   "source": [
    "print('r2_score - ',r2_score(y_test,pred))"
   ]
  },
  {
   "cell_type": "code",
   "execution_count": 93,
   "id": "cbc59164-8c9a-4801-9b4e-9c964dbab4a7",
   "metadata": {},
   "outputs": [
    {
     "name": "stdout",
     "output_type": "stream",
     "text": [
      "sqrt mean sqrd error -  767819119.1463792\n"
     ]
    }
   ],
   "source": [
    "print('sqrt mean sqrd error - ' , sqrt(mean_squared_error(y_test,pred)))"
   ]
  },
  {
   "cell_type": "code",
   "execution_count": 94,
   "id": "57b677a9-50cb-4b87-bc84-47325d201069",
   "metadata": {},
   "outputs": [
    {
     "name": "stdout",
     "output_type": "stream",
     "text": [
      "mean sqr error -  5.895461997267218e+17\n"
     ]
    }
   ],
   "source": [
    "print('mean sqr error - ',mean_squared_error(y_test,pred))"
   ]
  },
  {
   "cell_type": "code",
   "execution_count": 95,
   "id": "c38ebebb-8ac9-4866-bb9d-aafac62a9ce4",
   "metadata": {},
   "outputs": [
    {
     "data": {
      "text/plain": [
       "<Axes: >"
      ]
     },
     "execution_count": 95,
     "metadata": {},
     "output_type": "execute_result"
    },
    {
     "data": {
      "image/png": "[encoded data removed]",
      "text/plain": [
       "<Figure size 1000x200 with 1 Axes>"
      ]
     },
     "metadata": {},
     "output_type": "display_data"
    }
   ],
   "source": [
    "plt.figure(figsize=(10,2))\n",
    "data['YearsExperience'].plot()\n",
    "data['Salary'].plot()"
   ]
  },
  {
   "cell_type": "code",
   "execution_count": null,
   "id": "b1cc7d3a-22fc-48fb-8502-c695f0e393b9",
   "metadata": {},
   "outputs": [],
   "source": []
  },
  {
   "cell_type": "code",
   "execution_count": null,
   "id": "42526e11-478a-435c-881c-2c80433c122e",
   "metadata": {},
   "outputs": [],
   "source": []
  },
  {
   "cell_type": "code",
   "execution_count": null,
   "id": "72202013-bb5d-4174-ba91-9b3607381d53",
   "metadata": {},
   "outputs": [],
   "source": []
  },
  {
   "cell_type": "code",
   "execution_count": null,
   "id": "c6835610-0cba-4b16-bc9d-57defdf1e343",
   "metadata": {},
   "outputs": [],
   "source": []
  }
 ],
 "metadata": {
  "kernelspec": {
   "display_name": "Python 3 (ipykernel)",
   "language": "python",
   "name": "python3"
  },
  "language_info": {
   "codemirror_mode": {
    "name": "ipython",
    "version": 3
   },
   "file_extension": ".py",
   "mimetype": "text/x-python",
   "name": "python",
   "nbconvert_exporter": "python",
   "pygments_lexer": "ipython3",
   "version": "3.11.7"
  }
 },
 "nbformat": 4,
 "nbformat_minor": 5
}
